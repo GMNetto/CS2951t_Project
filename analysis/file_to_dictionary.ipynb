{
 "cells": [
  {
   "cell_type": "code",
   "execution_count": 1,
   "metadata": {
    "collapsed": false
   },
   "outputs": [],
   "source": [
    "def load_into_dictionary(file_name):\n",
    "    dic = {}\n",
    "    with open(file_name, 'r') as f:\n",
    "        for i in range(0, 3):\n",
    "            f.readline()\n",
    "        while True:\n",
    "            class_ = f.readline().strip()\n",
    "            print class_[:14]\n",
    "            if not class_: break\n",
    "            dic[class_[:13]] = 0\n",
    "            if not f.readline(): break \n",
    "            c = f.readline().split()[0].strip()\n",
    "            if c != 'ZERO':\n",
    "                dic[class_] = float(c)\n",
    "            f.readline()\n",
    "    return dic"
   ]
  },
  {
   "cell_type": "code",
   "execution_count": 17,
   "metadata": {
    "collapsed": false
   },
   "outputs": [
    {
     "name": "stdout",
     "output_type": "stream",
     "text": [
      "bicycle\n",
      "0.19265019083_\n",
      "0.19265019083p\n",
      "0.19265019083t\n",
      "0.19265019083c\n",
      "0.19265019083b\n",
      "0.19265019083s\n",
      "0.19265019083h\n",
      "0.19265019083m\n",
      "0.19265019083t\n",
      "0.19265019083b\n",
      "0.19265019083a\n",
      "0.19265019083b\n",
      "0.19265019083t\n",
      "0.19265019083d\n",
      "0.19265019083c\n",
      "0.19265019083s\n",
      "0.19265019083d\n",
      "0.19265019083c\n",
      "0.19265019083p\n",
      "0.19265019083b\n",
      "0.19265019083c\n",
      "0.19265019083\n"
     ]
    }
   ],
   "source": [
    "dic = load_into_dictionary('results_pca_256_12/res_pca_red_1.txt')"
   ]
  },
  {
   "cell_type": "code",
   "execution_count": 18,
   "metadata": {
    "collapsed": false
   },
   "outputs": [
    {
     "data": {
      "text/plain": [
       "0.0755824399593"
      ]
     },
     "execution_count": 18,
     "metadata": {},
     "output_type": "execute_result"
    }
   ],
   "source": [
    "import collections\n",
    "dic = collections.OrderedDict(sorted(dic.items()))\n",
    "dic['bicycle']"
   ]
  },
  {
   "cell_type": "code",
   "execution_count": 19,
   "metadata": {
    "collapsed": false,
    "scrolled": true
   },
   "outputs": [
    {
     "name": "stdout",
     "output_type": "stream",
     "text": [
      "0\n",
      "0.0542079102766\n",
      "0.171245662169\n",
      "0.114797687861\n",
      "0.150071058842\n",
      "0.248151515152\n",
      "0.334188678061\n",
      "0.229522967314\n",
      "0.295136996318\n",
      "0.0111523127108\n",
      "0.135994553157\n",
      "0.236324018502\n",
      "0.0784867036541\n",
      "0.133452180681\n",
      "0.710551895023\n",
      "0.138389897919\n",
      "0.00783327552318\n",
      "0.258329309512\n",
      "0.337447447447\n",
      "0.197682239123\n",
      "0.0755824399593\n"
     ]
    }
   ],
   "source": [
    "for key in dic:\n",
    "    print dic[key]"
   ]
  },
  {
   "cell_type": "code",
   "execution_count": 16,
   "metadata": {
    "collapsed": false
   },
   "outputs": [
    {
     "name": "stdout",
     "output_type": "stream",
     "text": [
      "\n",
      "aeroplane\n",
      "bird\n",
      "boat\n",
      "bottle\n",
      "bus\n",
      "car\n",
      "cat\n",
      "chair\n",
      "cow\n",
      "diningtable\n",
      "dog\n",
      "horse\n",
      "motorbike\n",
      "person\n",
      "pottedplant\n",
      "sheep\n",
      "sofa\n",
      "train\n",
      "tvmonitor\n",
      "\n"
     ]
    }
   ],
   "source": [
    "for key in dic:\n",
    "    print key[14:]"
   ]
  },
  {
   "cell_type": "code",
   "execution_count": null,
   "metadata": {
    "collapsed": true
   },
   "outputs": [],
   "source": []
  }
 ],
 "metadata": {
  "kernelspec": {
   "display_name": "Python 2",
   "language": "python",
   "name": "python2"
  },
  "language_info": {
   "codemirror_mode": {
    "name": "ipython",
    "version": 2
   },
   "file_extension": ".py",
   "mimetype": "text/x-python",
   "name": "python",
   "nbconvert_exporter": "python",
   "pygments_lexer": "ipython2",
   "version": "2.7.9"
  }
 },
 "nbformat": 4,
 "nbformat_minor": 0
}
