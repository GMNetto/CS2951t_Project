{
 "cells": [
  {
   "cell_type": "code",
   "execution_count": 46,
   "metadata": {
    "collapsed": false
   },
   "outputs": [],
   "source": [
    "def load_into_dictionary(file_name):\n",
    "    dic = {}\n",
    "    with open(file_name, 'r') as f:\n",
    "        for i in range(0, 3):\n",
    "            f.readline()\n",
    "        while True:\n",
    "            class_ = f.readline().strip()\n",
    "            print class_[:14]\n",
    "            if not class_: break\n",
    "            dic[class_[:13]] = 0\n",
    "            if not f.readline(): break \n",
    "            c = f.readline().split()[0].strip()\n",
    "            if c != 'ZERO':\n",
    "                dic[class_] = float(c)\n",
    "            f.readline()\n",
    "    return dic"
   ]
  },
  {
   "cell_type": "code",
   "execution_count": 56,
   "metadata": {
    "collapsed": false
   },
   "outputs": [
    {
     "name": "stdout",
     "output_type": "stream",
     "text": [
      "bicycle\n",
      "0.133444841981\n",
      "0.133444841981\n",
      "0.133444841981\n",
      "0.133444841981\n",
      "0.133444841981\n",
      "0.133444841981\n",
      "0.133444841981\n",
      "0.133444841981\n",
      "0.133444841981\n",
      "0.133444841981\n",
      "0.133444841981\n",
      "0.133444841981\n",
      "0.133444841981\n",
      "0.133444841981\n",
      "0.133444841981\n",
      "0.133444841981\n",
      "0.133444841981\n",
      "0.133444841981\n",
      "0.133444841981\n",
      "0.133444841981\n",
      "0.133444841981\n",
      "0.133444841981\n"
     ]
    }
   ],
   "source": [
    "dic = load_into_dictionary('results_pca_12/res_pca_red_20.txt')"
   ]
  },
  {
   "cell_type": "code",
   "execution_count": 57,
   "metadata": {
    "collapsed": false
   },
   "outputs": [
    {
     "data": {
      "text/plain": [
       "0.286765586632"
      ]
     },
     "execution_count": 57,
     "metadata": {},
     "output_type": "execute_result"
    }
   ],
   "source": [
    "import collections\n",
    "dic = collections.OrderedDict(sorted(dic.items()))\n",
    "dic['bicycle']"
   ]
  },
  {
   "cell_type": "code",
   "execution_count": 58,
   "metadata": {
    "collapsed": false,
    "scrolled": true
   },
   "outputs": [
    {
     "name": "stdout",
     "output_type": "stream",
     "text": [
      "0\n",
      "0.365133395641\n",
      "0.427409453653\n",
      "0.505433526012\n",
      "0.621073836004\n",
      "0.509727272727\n",
      "0.716435566646\n",
      "0.475939799443\n",
      "0.7211167759\n",
      "0.253415395768\n",
      "0.549645703046\n",
      "0.59924563885\n",
      "0.225003587144\n",
      "0.376289954051\n",
      "0.920985276426\n",
      "0.516633799549\n",
      "0.115641981732\n",
      "0.695500520979\n",
      "0.563746246246\n",
      "0.640501319261\n",
      "0.286765586632\n"
     ]
    }
   ],
   "source": [
    "for key in dic:\n",
    "    print dic[key]"
   ]
  },
  {
   "cell_type": "code",
   "execution_count": 45,
   "metadata": {
    "collapsed": false
   },
   "outputs": [
    {
     "name": "stdout",
     "output_type": "stream",
     "text": [
      "\n",
      "5aeroplane\n",
      "5bird\n",
      "5boat\n",
      "5bottle\n",
      "5bus\n",
      "5car\n",
      "5cat\n",
      "5chair\n",
      "5cow\n",
      "5diningtable\n",
      "5dog\n",
      "5horse\n",
      "5motorbike\n",
      "5person\n",
      "5pottedplant\n",
      "5sheep\n",
      "5sofa\n",
      "5train\n",
      "5tvmonitor\n",
      "\n"
     ]
    }
   ],
   "source": [
    "for key in dic:\n",
    "    print key[13:]"
   ]
  },
  {
   "cell_type": "code",
   "execution_count": null,
   "metadata": {
    "collapsed": true
   },
   "outputs": [],
   "source": []
  }
 ],
 "metadata": {
  "kernelspec": {
   "display_name": "Python 2",
   "language": "python",
   "name": "python2"
  },
  "language_info": {
   "codemirror_mode": {
    "name": "ipython",
    "version": 2
   },
   "file_extension": ".py",
   "mimetype": "text/x-python",
   "name": "python",
   "nbconvert_exporter": "python",
   "pygments_lexer": "ipython2",
   "version": "2.7.9"
  }
 },
 "nbformat": 4,
 "nbformat_minor": 0
}
