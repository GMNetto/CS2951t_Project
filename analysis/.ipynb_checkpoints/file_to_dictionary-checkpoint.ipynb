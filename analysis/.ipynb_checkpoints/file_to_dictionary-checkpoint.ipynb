{
 "cells": [
  {
   "cell_type": "code",
   "execution_count": 8,
   "metadata": {
    "collapsed": false
   },
   "outputs": [],
   "source": [
    "def load_into_dictionary(file_name):\n",
    "    dic = {}\n",
    "    with open(file_name, 'r') as f:\n",
    "        for i in range(0, 3):\n",
    "            f.readline()\n",
    "        while True:\n",
    "            class_ = f.readline().strip()\n",
    "            if not class_: break\n",
    "            dic[class_[:14]] = 0\n",
    "            if not f.readline(): break \n",
    "            c = f.readline().split()[0].strip()\n",
    "            if c != 'ZERO':\n",
    "                dic[class_] = float(c)\n",
    "            f.readline()\n",
    "    return dic"
   ]
  },
  {
   "cell_type": "code",
   "execution_count": 9,
   "metadata": {
    "collapsed": false
   },
   "outputs": [],
   "source": [
    "dic = load_into_dictionary('results_auto_256_12/res_auto1.txt')"
   ]
  },
  {
   "cell_type": "code",
   "execution_count": 10,
   "metadata": {
    "collapsed": false
   },
   "outputs": [
    {
     "data": {
      "text/plain": [
       "0.267903241228"
      ]
     },
     "execution_count": 10,
     "metadata": {},
     "output_type": "execute_result"
    }
   ],
   "source": [
    "dic['bicycle']"
   ]
  },
  {
   "cell_type": "code",
   "execution_count": 11,
   "metadata": {
    "collapsed": false
   },
   "outputs": [
    {
     "name": "stdout",
     "output_type": "stream",
     "text": [
      "0.256061564411\n",
      "0.206596678157\n",
      "0.287945762712\n",
      "0.267903241228\n",
      "0.474879390345\n",
      "0.31551560204\n",
      "0.214830717456\n",
      "0.356185438846\n",
      "0.329982123704\n",
      "0.490924328974\n",
      "0.392334934605\n",
      "0.234789327005\n",
      "0.487931804501\n",
      "0.171217139617\n",
      "0.255381361204\n",
      "0.575833363798\n",
      "0\n",
      "0.324725358867\n",
      "0.258662214681\n",
      "0.225693401422\n",
      "0.331185249137\n"
     ]
    }
   ],
   "source": [
    "for key in dic:\n",
    "    print dic[key]"
   ]
  },
  {
   "cell_type": "code",
   "execution_count": 12,
   "metadata": {
    "collapsed": false
   },
   "outputs": [
    {
     "name": "stdout",
     "output_type": "stream",
     "text": [
      "0.942601968646motorbike\n",
      "0.942601968646dog\n",
      "0.942601968646diningtable\n",
      "bicycle\n",
      "0.942601968646bus\n",
      "0.942601968646pottedplant\n",
      "0.942601968646sofa\n",
      "0.942601968646aeroplane\n",
      "0.942601968646bottle\n",
      "0.942601968646cat\n",
      "0.942601968646chair\n",
      "0.942601968646tvmonitor\n",
      "0.942601968646boat\n",
      "0.942601968646cow\n",
      "0.942601968646train\n",
      "0.942601968646person\n",
      "0.942601968646\n",
      "0.942601968646car\n",
      "0.942601968646bird\n",
      "0.942601968646horse\n",
      "0.942601968646sheep\n"
     ]
    }
   ],
   "source": [
    "for key in dic:\n",
    "    print key"
   ]
  },
  {
   "cell_type": "code",
   "execution_count": null,
   "metadata": {
    "collapsed": true
   },
   "outputs": [],
   "source": []
  }
 ],
 "metadata": {
  "kernelspec": {
   "display_name": "Python 2",
   "language": "python",
   "name": "python2"
  },
  "language_info": {
   "codemirror_mode": {
    "name": "ipython",
    "version": 2
   },
   "file_extension": ".py",
   "mimetype": "text/x-python",
   "name": "python",
   "nbconvert_exporter": "python",
   "pygments_lexer": "ipython2",
   "version": "2.7.9"
  }
 },
 "nbformat": 4,
 "nbformat_minor": 0
}
